{
 "cells": [
  {
   "cell_type": "markdown",
   "id": "cb2bc0b3-0401-43cc-b8ff-8310bb39b20f",
   "metadata": {},
   "source": [
    "# Data Science Tools and Ecosystem"
   ]
  },
  {
   "cell_type": "markdown",
   "id": "17157498-3f55-42af-9918-4044faf11155",
   "metadata": {},
   "source": [
    "In this notebook, Data Science Tools and Ecosystem are summarized."
   ]
  },
  {
   "cell_type": "markdown",
   "id": "f1960a4e-5e67-4051-9a57-7e7007e3081f",
   "metadata": {},
   "source": [
    "Some of the popular languages that Data Scientists use are:\n",
    "1. Python\n",
    "2. Java\n",
    "3. R\n",
    "4. C++"
   ]
  },
  {
   "cell_type": "markdown",
   "id": "1d66b284-542f-42ca-9823-e9193dc8f3f1",
   "metadata": {},
   "source": [
    "Some of the commonly used libraries used by Data Scientists include:\n",
    "1. Matplotlib\n",
    "2. Pandas\n",
    "3. numpy\n",
    "4. scikit_learn"
   ]
  },
  {
   "cell_type": "markdown",
   "id": "f26ed12f-5cf7-439d-b522-ac62a536ebda",
   "metadata": {},
   "source": [
    "| Data Science Tools |\n",
    "| ------------------ |\n",
    "| RStudio |\n",
    "| Jupyter Notebooks |\n",
    "| Spyder |"
   ]
  },
  {
   "cell_type": "markdown",
   "id": "feae50af-2d45-4c0f-ac30-91dbacac5a2c",
   "metadata": {},
   "source": [
    "### Below are a few examples of evaluating arithmetic expressions in Python.\n"
   ]
  },
  {
   "cell_type": "code",
   "execution_count": 1,
   "id": "8370d841-a6a7-49fd-81e5-35238b918fc3",
   "metadata": {
    "tags": []
   },
   "outputs": [
    {
     "data": {
      "text/plain": [
       "17"
      ]
     },
     "execution_count": 1,
     "metadata": {},
     "output_type": "execute_result"
    }
   ],
   "source": [
    "#This a simple arithmetic expression to mutiply then add integers\n",
    "\n",
    "(3*4)+5"
   ]
  },
  {
   "cell_type": "code",
   "execution_count": 2,
   "id": "40637e14-0eba-4ea9-91cc-b232e3aaf505",
   "metadata": {
    "tags": []
   },
   "outputs": [
    {
     "name": "stdout",
     "output_type": "stream",
     "text": [
      "3.3333333333333335\n"
     ]
    }
   ],
   "source": [
    "#This will convert 200 minutes to hours by diving by 60\n",
    "minutes=200\n",
    "hour=minutes/60\n",
    "print(hour)"
   ]
  },
  {
   "cell_type": "markdown",
   "id": "246a8ce7-729a-4933-a90a-69efe79979aa",
   "metadata": {},
   "source": [
    "Objectives:\n",
    "- Saw about the DSlanguages \n",
    "- Saw about basic arithmetic expression\n",
    "- went through the open Source tools\n",
    "    "
   ]
  },
  {
   "cell_type": "markdown",
   "id": "2681b239-f774-45a7-aad4-455c01a2b076",
   "metadata": {},
   "source": [
    "## Author\n",
    "Navheen"
   ]
  },
  {
   "cell_type": "code",
   "execution_count": null,
   "id": "fba22eec-838b-456a-a926-fbfb0f421571",
   "metadata": {},
   "outputs": [],
   "source": []
  }
 ],
 "metadata": {
  "kernelspec": {
   "display_name": "Python",
   "language": "python",
   "name": "conda-env-python-py"
  },
  "language_info": {
   "codemirror_mode": {
    "name": "ipython",
    "version": 3
   },
   "file_extension": ".py",
   "mimetype": "text/x-python",
   "name": "python",
   "nbconvert_exporter": "python",
   "pygments_lexer": "ipython3",
   "version": "3.7.12"
  }
 },
 "nbformat": 4,
 "nbformat_minor": 5
}
